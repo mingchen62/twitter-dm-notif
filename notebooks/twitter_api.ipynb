{
 "cells": [
  {
   "cell_type": "code",
   "execution_count": 4,
   "metadata": {},
   "outputs": [
    {
     "name": "stdout",
     "output_type": "stream",
     "text": [
      "NECAA\n"
     ]
    }
   ],
   "source": [
    "import tweepy\n",
    "\n",
    "# == OAuth Authentication ==\n",
    "#\n",
    "# This mode of authentication is the new preferred way\n",
    "# of authenticating with Twitter.\n",
    "\n",
    "# The consumer keys can be found on your application's Details\n",
    "# page located at https://dev.twitter.com/apps (under \"OAuth settings\")\n",
    "consumer_key=\"gYVh2esxqptt65lPvFy4esBp0\"\n",
    "consumer_secret=\"SWob3I2NTNvzzYFCZUaYAbcxhEHIWuXY7C4kyZSfHRfnmJFsoB\"\n",
    "\n",
    "# The access tokens can be found on your applications's Details\n",
    "# page located at https://dev.twitter.com/apps (located\n",
    "# under \"Your access token\")\n",
    "access_token=\"1317471388635222017-qEuSNl65qryrJW0EzvGOTNiBukn9YH\"\n",
    "access_token_secret=\"w2DWjHlE7J93ENpbevMf1Max53G5CQ9Dmxz2gqDpnx7nf\"\n",
    "\n",
    "auth = tweepy.OAuthHandler(consumer_key, consumer_secret)\n",
    "auth.set_access_token(access_token, access_token_secret)\n",
    "\n",
    "api = tweepy.API(auth)\n",
    "\n",
    "# If the authentication was successful, you should\n",
    "# see the name of the account print out\n",
    "print(api.me().name)\n",
    "\n"
   ]
  },
  {
   "cell_type": "code",
   "execution_count": 5,
   "metadata": {
    "scrolled": true
   },
   "outputs": [
    {
     "name": "stdout",
     "output_type": "stream",
     "text": [
      "1st trip to the dentist today. Little guy was determined to keep his mouth wide open the entire visit 😂 https://t.co/AxxwCQ92Pe\n",
      "Happy Dominican Independence Day! 🇩🇴 Celebrating 177 years of independence with Boston’s Dominican community. ¡Feli… https://t.co/mico8zRV6Q\n",
      "RT @SEIU509: North Suffolk workers fighting for a union will have their votes counted in just 3 days! With a union they can make a differen…\n",
      "RT @Students4Wu: listening to @wutrain talk, at a dorchester virtual event, about her vision for BPS and how she wants a full approach that…\n",
      "YES! We can make fare-free public transportation a reality. #FreetheT\n",
      "\n",
      "Grateful for the leadership of @MA_Senate Tr… https://t.co/AzXciZo8JT\n",
      "With @JuanforRep's election coming up in just 5 days, we need your help to push his campaign to victory. Remember:… https://t.co/ADihxiHOOm\n",
      "Chag Purim Sameach! Wishing all those who celebrate a bright &amp; happy Purim this year. 💜✨\n",
      "Thank you, @Berthacoombs for a great conversation on how we’re continuing to meet consumers' health needs. People a… https://t.co/mCCm5drEo2\n",
      "Honored to be endorsed by @JulianCyr! From food justice to mental health to opening doors for millennials in politi… https://t.co/20iLVLBa2S\n",
      "👏 Take down all the barriers for more moms &amp; working parents in leadership.\n",
      "\n",
      "My little guy Cass was born just month… https://t.co/Ab0EeHWhKi\n",
      "Worker co-ops build wealth, community, &amp; worker power—an urgent investment in racial &amp; economic justice. Boston can… https://t.co/yxBDd7d14z\n",
      "My heart is with the families of the workers who died today at a downtown construction site. I will be closely foll… https://t.co/SViHZHI0mn\n",
      "Over his decades of leadership as a civil rights activist, community organizer &amp; State Representative,… https://t.co/BPlVC8kOPS\n",
      "RT @Dunkiesgirl: Only Union endorsed candidate! This being her 3rd so far!\n",
      "RT @Parents4Wu: We can and must support early Ed, with properly-compensated professionals in safe and nurturing environments. 🙌\n",
      "RT @BerniceKing: You should be here. \n",
      "\n",
      "I’m praying for your family and committed to working toward a nation and world where Black men aren’…\n",
      "RT @Teamsters25: #Teamsters Local 25 endorses Wu for #Boston mayor, calling her \"a strong leader who will stand-up for our members during t…\n",
      "Let’s do this, @Teamsters25! I’m honored to earn the endorsement of 12.5k hardworking members across the region.… https://t.co/NtNMaSmOff\n",
      "This is the wrong choice for East Boston. We’ll keep up the fight for climate justice.\n",
      "\n",
      "https://t.co/5HW4seNE4H\n",
      "And our MA federal delegation is leading the charge for sweeping national progress: https://t.co/rjHW0nxixQ\n"
     ]
    }
   ],
   "source": [
    "public_tweets = api.home_timeline()\n",
    "for tweet in public_tweets:\n",
    "    print(tweet.text)"
   ]
  },
  {
   "cell_type": "code",
   "execution_count": 53,
   "metadata": {},
   "outputs": [
    {
     "name": "stdout",
     "output_type": "stream",
     "text": [
      "From: Slowisfast3\n",
      "Message: Aloha 2021\n"
     ]
    }
   ],
   "source": [
    "for direct_message in api.list_direct_messages():\n",
    "    #print(dm)\n",
    "    #print(direct_message._json)\n",
    "    from_screen_name = lookup_user(direct_message._json['message_create']['sender_id'])\n",
    "    print(\"From: \"+ from_screen_name)\n",
    "    print(\"Message: \"+direct_message._json['message_create']['message_data']['text'])\n",
    "    #print(direct_message._json['message_create']['message_data']['entities'])\n",
    "    #print(direct_message._json['message_create']['message_data']['attachment'])"
   ]
  },
  {
   "cell_type": "code",
   "execution_count": 54,
   "metadata": {},
   "outputs": [],
   "source": [
    "def lookup_user(user_id):\n",
    "    res=[]\n",
    "    try:\n",
    "        users_data = api.lookup_users(user_ids=[user_id])\n",
    "        for user_data in users_data:\n",
    "            res.append(user_data._json['screen_name'])\n",
    "        return res\n",
    "    except Exception as e:\n",
    "        print(e)\n",
    "        return None\n"
   ]
  },
  {
   "cell_type": "code",
   "execution_count": 47,
   "metadata": {},
   "outputs": [
    {
     "name": "stdout",
     "output_type": "stream",
     "text": [
      "1241868926981746690\n",
      "{'id': 1241868926981746690, 'id_str': '1241868926981746690', 'name': 'Slow_is_fast', 'screen_name': 'Slowisfast3', 'location': '', 'description': '', 'url': None, 'entities': {'description': {'urls': []}}, 'protected': False, 'followers_count': 1, 'friends_count': 19, 'listed_count': 0, 'created_at': 'Sun Mar 22 23:26:49 +0000 2020', 'favourites_count': 14, 'utc_offset': None, 'time_zone': None, 'geo_enabled': False, 'verified': False, 'statuses_count': 1, 'lang': None, 'status': {'created_at': 'Sat Feb 27 17:32:13 +0000 2021', 'id': 1365716379698147329, 'id_str': '1365716379698147329', 'text': '@necaa2020 It is great to  hear fellow Asian Americans more active in civil engagement.', 'truncated': False, 'entities': {'hashtags': [], 'symbols': [], 'user_mentions': [{'screen_name': 'necaa2020', 'name': 'NECAA', 'id': 1317471388635222017, 'id_str': '1317471388635222017', 'indices': [0, 10]}], 'urls': []}, 'source': '<a href=\"http://twitter.com/download/android\" rel=\"nofollow\">Twitter for Android</a>', 'in_reply_to_status_id': 1320715649207984129, 'in_reply_to_status_id_str': '1320715649207984129', 'in_reply_to_user_id': 1317471388635222017, 'in_reply_to_user_id_str': '1317471388635222017', 'in_reply_to_screen_name': 'necaa2020', 'geo': None, 'coordinates': None, 'place': None, 'contributors': None, 'is_quote_status': False, 'retweet_count': 0, 'favorite_count': 0, 'favorited': False, 'retweeted': False, 'lang': 'en'}, 'contributors_enabled': False, 'is_translator': False, 'is_translation_enabled': False, 'profile_background_color': 'F5F8FA', 'profile_background_image_url': None, 'profile_background_image_url_https': None, 'profile_background_tile': False, 'profile_image_url': 'http://abs.twimg.com/sticky/default_profile_images/default_profile_normal.png', 'profile_image_url_https': 'https://abs.twimg.com/sticky/default_profile_images/default_profile_normal.png', 'profile_link_color': '1DA1F2', 'profile_sidebar_border_color': 'C0DEED', 'profile_sidebar_fill_color': 'DDEEF6', 'profile_text_color': '333333', 'profile_use_background_image': True, 'has_extended_profile': True, 'default_profile': True, 'default_profile_image': True, 'following': True, 'follow_request_sent': False, 'notifications': False, 'translator_type': 'none'}\n"
     ]
    },
    {
     "data": {
      "text/plain": [
       "'Slowisfast3'"
      ]
     },
     "execution_count": 47,
     "metadata": {},
     "output_type": "execute_result"
    }
   ],
   "source": [
    "lookup_user('1241868926981746690')"
   ]
  },
  {
   "cell_type": "code",
   "execution_count": null,
   "metadata": {},
   "outputs": [],
   "source": [
    "# If the application settings are set for \"Read and Write\" then\n",
    "# this line should tweet out the message to your account's\n",
    "# timeline. The \"Read and Write\" setting is on https://dev.twitter.com/apps\n",
    "api.set_status(status='Aloha 2021!')"
   ]
  },
  {
   "cell_type": "code",
   "execution_count": null,
   "metadata": {},
   "outputs": [],
   "source": []
  }
 ],
 "metadata": {
  "kernelspec": {
   "display_name": "Python 3",
   "language": "python",
   "name": "python3"
  },
  "language_info": {
   "codemirror_mode": {
    "name": "ipython",
    "version": 3
   },
   "file_extension": ".py",
   "mimetype": "text/x-python",
   "name": "python",
   "nbconvert_exporter": "python",
   "pygments_lexer": "ipython3",
   "version": "3.8.3"
  }
 },
 "nbformat": 4,
 "nbformat_minor": 4
}
